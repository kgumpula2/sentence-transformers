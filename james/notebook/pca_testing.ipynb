{
 "cells": [
  {
   "cell_type": "code",
   "execution_count": 1,
   "metadata": {},
   "outputs": [],
   "source": [
    "import numpy as np, faiss"
   ]
  },
  {
   "cell_type": "code",
   "execution_count": 7,
   "metadata": {},
   "outputs": [
    {
     "name": "stdout",
     "output_type": "stream",
     "text": [
      "False\n",
      "(1000, 10)\n",
      "[[ 0.40897146 -0.09089501 -0.1686714  ...  0.61205184  0.37697434\n",
      "   0.3777932 ]\n",
      " [ 0.59611607  0.1007501  -0.5245633  ...  0.01082858 -0.01655516\n",
      "  -0.05163693]\n",
      " [ 0.13293913  0.09213638  0.5890378  ...  0.19168577 -0.09132722\n",
      "   0.19784439]\n",
      " ...\n",
      " [ 0.21527489 -0.43120292 -0.251974   ... -0.03093114  0.6343567\n",
      "   0.519766  ]\n",
      " [-0.0814501  -0.00810035 -0.03295547 ... -0.03758228  0.07607689\n",
      "  -0.07851899]\n",
      " [-0.36996126 -0.15876389  0.42579386 ... -0.13233037  0.0370971\n",
      "   0.503845  ]]\n"
     ]
    }
   ],
   "source": [
    "mt = np.random.rand(1000, 40).astype('float32')\n",
    "mat = faiss.PCAMatrix (40, 10)\n",
    "print(mat.is_trained)\n",
    "mat.train(mt)\n",
    "assert mat.is_trained\n",
    "tr = mat.apply(mt)\n",
    "print(tr.shape)\n",
    "# print this to show that the magnitude of tr's columns is decreasing\n",
    "print(tr)"
   ]
  },
  {
   "cell_type": "code",
   "execution_count": 19,
   "metadata": {},
   "outputs": [],
   "source": [
    "faiss.write_VectorTransform(mat, \"james/PCA.pca\")\n",
    "PCA2 = faiss.read_VectorTransform(\"PCA.pca\")"
   ]
  },
  {
   "cell_type": "code",
   "execution_count": 18,
   "metadata": {},
   "outputs": [
    {
     "data": {
      "text/plain": [
       "10"
      ]
     },
     "execution_count": 18,
     "metadata": {},
     "output_type": "execute_result"
    }
   ],
   "source": [
    "PCA2.d_out"
   ]
  }
 ],
 "metadata": {
  "kernelspec": {
   "display_name": "mlsys",
   "language": "python",
   "name": "python3"
  },
  "language_info": {
   "codemirror_mode": {
    "name": "ipython",
    "version": 3
   },
   "file_extension": ".py",
   "mimetype": "text/x-python",
   "name": "python",
   "nbconvert_exporter": "python",
   "pygments_lexer": "ipython3",
   "version": "3.9.19"
  }
 },
 "nbformat": 4,
 "nbformat_minor": 2
}
