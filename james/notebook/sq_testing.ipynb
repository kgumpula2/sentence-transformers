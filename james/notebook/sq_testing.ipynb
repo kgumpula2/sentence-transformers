{
 "cells": [
  {
   "cell_type": "code",
   "execution_count": 2,
   "metadata": {},
   "outputs": [],
   "source": [
    "import faiss, numpy as np, time"
   ]
  },
  {
   "cell_type": "code",
   "execution_count": 2,
   "metadata": {},
   "outputs": [],
   "source": [
    "np.random.seed(42)\n",
    "gen_data = np.random.uniform(-20, 20, size=(1_000_000, 384))\n",
    "queries = np.random.uniform(-20, 20, size=(10_000, 384))\n",
    "nprobe = 25\n",
    "knn = 1_000"
   ]
  },
  {
   "cell_type": "code",
   "execution_count": 3,
   "metadata": {},
   "outputs": [],
   "source": [
    "quantizer = faiss.IndexFlatIP(384)\n",
    "index = faiss.index_factory(384, \"IVF1024,SQ8\", faiss.METRIC_INNER_PRODUCT)"
   ]
  },
  {
   "cell_type": "code",
   "execution_count": 4,
   "metadata": {},
   "outputs": [
    {
     "name": "stdout",
     "output_type": "stream",
     "text": [
      "Time to train: 23.88 s, QPS: 41884.58\n",
      "Time to search: 5.61 s, QPS: 1783.75\n"
     ]
    }
   ],
   "source": [
    "a = time.time()\n",
    "index.train(gen_data)\n",
    "index.add(gen_data)\n",
    "b = time.time()\n",
    "index.nprobe = nprobe\n",
    "c = time.time()\n",
    "D, I = index.search(queries, knn)\n",
    "d = time.time()\n",
    "\n",
    "print(f\"Time to train: {(b-a):0.2f} s, QPS: {len(gen_data)/(b-a):0.2f}\", flush=True)\n",
    "print(f\"Time to search: {(d-c):0.2f} s, QPS: {len(queries)/(d-c):0.2f}\", flush=True)"
   ]
  },
  {
   "cell_type": "code",
   "execution_count": 3,
   "metadata": {},
   "outputs": [],
   "source": [
    "index = faiss.index_factory(384, \"IVF10000,SQ8\", faiss.METRIC_INNER_PRODUCT)\n",
    "index = faiss.index_factory(384, \"IVF1024,SQ6\", faiss.METRIC_INNER_PRODUCT)\n",
    "index = faiss.index_factory(384, \"IVF1024,SQ4\", faiss.METRIC_INNER_PRODUCT)\n",
    "index = faiss.index_factory(384, \"IVF1024,SQfp16\", faiss.METRIC_INNER_PRODUCT)"
   ]
  }
 ],
 "metadata": {
  "kernelspec": {
   "display_name": "mlsys",
   "language": "python",
   "name": "python3"
  },
  "language_info": {
   "codemirror_mode": {
    "name": "ipython",
    "version": 3
   },
   "file_extension": ".py",
   "mimetype": "text/x-python",
   "name": "python",
   "nbconvert_exporter": "python",
   "pygments_lexer": "ipython3",
   "version": "3.9.19"
  }
 },
 "nbformat": 4,
 "nbformat_minor": 2
}
